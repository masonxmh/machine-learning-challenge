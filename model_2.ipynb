{
 "cells": [
  {
   "cell_type": "code",
   "execution_count": 2,
   "metadata": {},
   "outputs": [],
   "source": [
    "import warnings\n",
    "warnings.simplefilter('ignore')\n",
    "import pandas as pd"
   ]
  },
  {
   "cell_type": "markdown",
   "metadata": {},
   "source": [
    "# Read the CSV and Perform Basic Data Cleaning"
   ]
  },
  {
   "cell_type": "code",
   "execution_count": 4,
   "metadata": {},
   "outputs": [],
   "source": [
    "df = pd.read_csv(\"exoplanet_data_select.csv\")"
   ]
  },
  {
   "cell_type": "markdown",
   "metadata": {},
   "source": [
    "# Select your features (columns)"
   ]
  },
  {
   "cell_type": "code",
   "execution_count": 5,
   "metadata": {},
   "outputs": [
    {
     "data": {
      "text/html": [
       "<div>\n",
       "<style scoped>\n",
       "    .dataframe tbody tr th:only-of-type {\n",
       "        vertical-align: middle;\n",
       "    }\n",
       "\n",
       "    .dataframe tbody tr th {\n",
       "        vertical-align: top;\n",
       "    }\n",
       "\n",
       "    .dataframe thead th {\n",
       "        text-align: right;\n",
       "    }\n",
       "</style>\n",
       "<table border=\"1\" class=\"dataframe\">\n",
       "  <thead>\n",
       "    <tr style=\"text-align: right;\">\n",
       "      <th></th>\n",
       "      <th>koi_fpflag_nt</th>\n",
       "      <th>koi_fpflag_ss</th>\n",
       "      <th>koi_fpflag_co</th>\n",
       "      <th>koi_fpflag_ec</th>\n",
       "      <th>koi_period_err1</th>\n",
       "      <th>koi_period_err2</th>\n",
       "      <th>koi_time0bk_err1</th>\n",
       "      <th>koi_time0bk_err2</th>\n",
       "      <th>koi_impact_err1</th>\n",
       "      <th>koi_duration_err1</th>\n",
       "      <th>koi_duration_err2</th>\n",
       "      <th>koi_depth</th>\n",
       "      <th>koi_teq</th>\n",
       "      <th>koi_model_snr</th>\n",
       "      <th>koi_slogg</th>\n",
       "      <th>koi_slogg_err2</th>\n",
       "      <th>ra</th>\n",
       "      <th>dec</th>\n",
       "      <th>koi_kepmag</th>\n",
       "    </tr>\n",
       "  </thead>\n",
       "  <tbody>\n",
       "    <tr>\n",
       "      <th>0</th>\n",
       "      <td>0</td>\n",
       "      <td>0</td>\n",
       "      <td>0</td>\n",
       "      <td>0</td>\n",
       "      <td>2.479000e-04</td>\n",
       "      <td>-2.479000e-04</td>\n",
       "      <td>0.003520</td>\n",
       "      <td>-0.003520</td>\n",
       "      <td>0.059</td>\n",
       "      <td>0.11600</td>\n",
       "      <td>-0.11600</td>\n",
       "      <td>874.8</td>\n",
       "      <td>443</td>\n",
       "      <td>25.8</td>\n",
       "      <td>4.467</td>\n",
       "      <td>-0.096</td>\n",
       "      <td>291.93423</td>\n",
       "      <td>48.141651</td>\n",
       "      <td>15.347</td>\n",
       "    </tr>\n",
       "    <tr>\n",
       "      <th>1</th>\n",
       "      <td>0</td>\n",
       "      <td>1</td>\n",
       "      <td>0</td>\n",
       "      <td>0</td>\n",
       "      <td>1.490000e-05</td>\n",
       "      <td>-1.490000e-05</td>\n",
       "      <td>0.000581</td>\n",
       "      <td>-0.000581</td>\n",
       "      <td>5.126</td>\n",
       "      <td>0.03410</td>\n",
       "      <td>-0.03410</td>\n",
       "      <td>10829.0</td>\n",
       "      <td>638</td>\n",
       "      <td>76.3</td>\n",
       "      <td>4.544</td>\n",
       "      <td>-0.176</td>\n",
       "      <td>297.00482</td>\n",
       "      <td>48.134129</td>\n",
       "      <td>15.436</td>\n",
       "    </tr>\n",
       "    <tr>\n",
       "      <th>2</th>\n",
       "      <td>0</td>\n",
       "      <td>1</td>\n",
       "      <td>0</td>\n",
       "      <td>0</td>\n",
       "      <td>2.630000e-07</td>\n",
       "      <td>-2.630000e-07</td>\n",
       "      <td>0.000115</td>\n",
       "      <td>-0.000115</td>\n",
       "      <td>0.115</td>\n",
       "      <td>0.00537</td>\n",
       "      <td>-0.00537</td>\n",
       "      <td>8079.2</td>\n",
       "      <td>1395</td>\n",
       "      <td>505.6</td>\n",
       "      <td>4.564</td>\n",
       "      <td>-0.168</td>\n",
       "      <td>285.53461</td>\n",
       "      <td>48.285210</td>\n",
       "      <td>15.597</td>\n",
       "    </tr>\n",
       "    <tr>\n",
       "      <th>3</th>\n",
       "      <td>0</td>\n",
       "      <td>0</td>\n",
       "      <td>0</td>\n",
       "      <td>0</td>\n",
       "      <td>3.760000e-06</td>\n",
       "      <td>-3.760000e-06</td>\n",
       "      <td>0.001130</td>\n",
       "      <td>-0.001130</td>\n",
       "      <td>0.235</td>\n",
       "      <td>0.04200</td>\n",
       "      <td>-0.04200</td>\n",
       "      <td>603.3</td>\n",
       "      <td>1406</td>\n",
       "      <td>40.9</td>\n",
       "      <td>4.438</td>\n",
       "      <td>-0.210</td>\n",
       "      <td>288.75488</td>\n",
       "      <td>48.226200</td>\n",
       "      <td>15.509</td>\n",
       "    </tr>\n",
       "    <tr>\n",
       "      <th>4</th>\n",
       "      <td>0</td>\n",
       "      <td>0</td>\n",
       "      <td>0</td>\n",
       "      <td>0</td>\n",
       "      <td>1.050000e-05</td>\n",
       "      <td>-1.050000e-05</td>\n",
       "      <td>0.001900</td>\n",
       "      <td>-0.001900</td>\n",
       "      <td>0.139</td>\n",
       "      <td>0.06730</td>\n",
       "      <td>-0.06730</td>\n",
       "      <td>686.0</td>\n",
       "      <td>1160</td>\n",
       "      <td>40.2</td>\n",
       "      <td>4.486</td>\n",
       "      <td>-0.229</td>\n",
       "      <td>296.28613</td>\n",
       "      <td>48.224670</td>\n",
       "      <td>15.714</td>\n",
       "    </tr>\n",
       "  </tbody>\n",
       "</table>\n",
       "</div>"
      ],
      "text/plain": [
       "   koi_fpflag_nt  koi_fpflag_ss  koi_fpflag_co  koi_fpflag_ec  \\\n",
       "0              0              0              0              0   \n",
       "1              0              1              0              0   \n",
       "2              0              1              0              0   \n",
       "3              0              0              0              0   \n",
       "4              0              0              0              0   \n",
       "\n",
       "   koi_period_err1  koi_period_err2  koi_time0bk_err1  koi_time0bk_err2  \\\n",
       "0     2.479000e-04    -2.479000e-04          0.003520         -0.003520   \n",
       "1     1.490000e-05    -1.490000e-05          0.000581         -0.000581   \n",
       "2     2.630000e-07    -2.630000e-07          0.000115         -0.000115   \n",
       "3     3.760000e-06    -3.760000e-06          0.001130         -0.001130   \n",
       "4     1.050000e-05    -1.050000e-05          0.001900         -0.001900   \n",
       "\n",
       "   koi_impact_err1  koi_duration_err1  koi_duration_err2  koi_depth  koi_teq  \\\n",
       "0            0.059            0.11600           -0.11600      874.8      443   \n",
       "1            5.126            0.03410           -0.03410    10829.0      638   \n",
       "2            0.115            0.00537           -0.00537     8079.2     1395   \n",
       "3            0.235            0.04200           -0.04200      603.3     1406   \n",
       "4            0.139            0.06730           -0.06730      686.0     1160   \n",
       "\n",
       "   koi_model_snr  koi_slogg  koi_slogg_err2         ra        dec  koi_kepmag  \n",
       "0           25.8      4.467          -0.096  291.93423  48.141651      15.347  \n",
       "1           76.3      4.544          -0.176  297.00482  48.134129      15.436  \n",
       "2          505.6      4.564          -0.168  285.53461  48.285210      15.597  \n",
       "3           40.9      4.438          -0.210  288.75488  48.226200      15.509  \n",
       "4           40.2      4.486          -0.229  296.28613  48.224670      15.714  "
      ]
     },
     "execution_count": 5,
     "metadata": {},
     "output_type": "execute_result"
    }
   ],
   "source": [
    "# Set features. This will also be used as your x values.\n",
    "# selected_features = df[['names', 'of', 'selected', 'features', 'here']]\n",
    "disposition = df[\"koi_disposition\"]\n",
    "feature = df.drop(['koi_disposition'], axis=1)\n",
    "feature.head()"
   ]
  },
  {
   "cell_type": "markdown",
   "metadata": {},
   "source": [
    "# Create a Train Test Split\n",
    "\n",
    "Use `koi_disposition` for the y values"
   ]
  },
  {
   "cell_type": "code",
   "execution_count": 6,
   "metadata": {},
   "outputs": [
    {
     "name": "stdout",
     "output_type": "stream",
     "text": [
      "(6991, 19) (6991, 1)\n"
     ]
    }
   ],
   "source": [
    "# Assign X (data) and y (target)\n",
    "X = feature\n",
    "y = disposition.values.reshape(-1,1)\n",
    "print(X.shape, y.shape)"
   ]
  },
  {
   "cell_type": "code",
   "execution_count": 7,
   "metadata": {},
   "outputs": [],
   "source": [
    "from sklearn.model_selection import train_test_split\n",
    "X_train, X_test, y_train, y_test = train_test_split(X, y, random_state=42,stratify=y)"
   ]
  },
  {
   "cell_type": "markdown",
   "metadata": {},
   "source": [
    "# Pre-processing\n",
    "\n",
    "Scale the data using the MinMaxScaler and perform some feature selection"
   ]
  },
  {
   "cell_type": "code",
   "execution_count": 8,
   "metadata": {},
   "outputs": [
    {
     "data": {
      "text/plain": [
       "array([2, 0, 2, ..., 2, 0, 0], dtype=int64)"
      ]
     },
     "execution_count": 8,
     "metadata": {},
     "output_type": "execute_result"
    }
   ],
   "source": [
    "# Scale your data\n",
    "# Import dependencies\n",
    "from sklearn.preprocessing import LabelEncoder\n",
    "# Label-encode data set\n",
    "label_encoder = LabelEncoder()\n",
    "label_encoder.fit(y_train)\n",
    "encoded_y_train = label_encoder.transform(y_train)\n",
    "encoded_y_test = label_encoder.transform(y_test)\n",
    "encoded_y_train"
   ]
  },
  {
   "cell_type": "code",
   "execution_count": 9,
   "metadata": {},
   "outputs": [],
   "source": [
    "from sklearn.preprocessing import MinMaxScaler\n",
    "X_minmax = MinMaxScaler().fit(X_train)\n",
    "\n",
    "X_train_minmax = X_minmax.transform(X_train)\n",
    "X_test_minmax = X_minmax.transform(X_test)"
   ]
  },
  {
   "cell_type": "code",
   "execution_count": 10,
   "metadata": {},
   "outputs": [
    {
     "data": {
      "text/plain": [
       "LogisticRegression(C=1.0, class_weight=None, dual=False, fit_intercept=True,\n",
       "                   intercept_scaling=1, l1_ratio=None, max_iter=100,\n",
       "                   multi_class='auto', n_jobs=None, penalty='l2',\n",
       "                   random_state=None, solver='lbfgs', tol=0.0001, verbose=0,\n",
       "                   warm_start=False)"
      ]
     },
     "execution_count": 10,
     "metadata": {},
     "output_type": "execute_result"
    }
   ],
   "source": [
    "from sklearn.linear_model import LogisticRegression\n",
    "model = LogisticRegression()\n",
    "model.fit(X_train_minmax, encoded_y_train)\n",
    "predictions = model.predict(X_test_minmax)\n",
    "model"
   ]
  },
  {
   "cell_type": "code",
   "execution_count": 11,
   "metadata": {},
   "outputs": [
    {
     "name": "stdout",
     "output_type": "stream",
     "text": [
      "Training Data Score: 0.8458897577722678\n",
      "Testing Data Score: 0.8627002288329519\n"
     ]
    }
   ],
   "source": [
    "print(f\"Training Data Score: {model.score(X_train_minmax, encoded_y_train)}\")\n",
    "print(f\"Testing Data Score: {model.score(X_test_minmax, encoded_y_test)}\")"
   ]
  },
  {
   "cell_type": "markdown",
   "metadata": {},
   "source": [
    "# Hyperparameter Tuning\n",
    "\n",
    "Use `GridSearchCV` to tune the model's parameters"
   ]
  },
  {
   "cell_type": "code",
   "execution_count": 12,
   "metadata": {},
   "outputs": [],
   "source": [
    "# Create the GridSearchCV model\n",
    "from sklearn.model_selection import GridSearchCV\n",
    "param_grid = {'C': [400, 800, 1200, 2000],\n",
    "              'max_iter': [25, 50, 100, 200]}\n",
    "grid = GridSearchCV(model, param_grid, verbose=3)"
   ]
  },
  {
   "cell_type": "code",
   "execution_count": 13,
   "metadata": {},
   "outputs": [
    {
     "name": "stdout",
     "output_type": "stream",
     "text": [
      "Fitting 5 folds for each of 16 candidates, totalling 80 fits\n",
      "[CV] C=400, max_iter=25 ..............................................\n",
      "[CV] .................. C=400, max_iter=25, score=0.853, total=   0.0s\n",
      "[CV] C=400, max_iter=25 ..............................................\n",
      "[CV] .................. C=400, max_iter=25, score=0.862, total=   0.0s\n",
      "[CV] C=400, max_iter=25 ..............................................\n",
      "[CV] .................. C=400, max_iter=25, score=0.840, total=   0.0s\n",
      "[CV] C=400, max_iter=25 ..............................................\n",
      "[CV] .................. C=400, max_iter=25, score=0.857, total=   0.0s\n",
      "[CV] C=400, max_iter=25 ..............................................\n",
      "[CV] .................. C=400, max_iter=25, score=0.846, total=   0.0s\n",
      "[CV] C=400, max_iter=50 ..............................................\n"
     ]
    },
    {
     "name": "stderr",
     "output_type": "stream",
     "text": [
      "[Parallel(n_jobs=1)]: Using backend SequentialBackend with 1 concurrent workers.\n",
      "[Parallel(n_jobs=1)]: Done   1 out of   1 | elapsed:    0.0s remaining:    0.0s\n",
      "[Parallel(n_jobs=1)]: Done   2 out of   2 | elapsed:    0.0s remaining:    0.0s\n"
     ]
    },
    {
     "name": "stdout",
     "output_type": "stream",
     "text": [
      "[CV] .................. C=400, max_iter=50, score=0.862, total=   0.1s\n",
      "[CV] C=400, max_iter=50 ..............................................\n",
      "[CV] .................. C=400, max_iter=50, score=0.876, total=   0.1s\n",
      "[CV] C=400, max_iter=50 ..............................................\n",
      "[CV] .................. C=400, max_iter=50, score=0.845, total=   0.1s\n",
      "[CV] C=400, max_iter=50 ..............................................\n",
      "[CV] .................. C=400, max_iter=50, score=0.864, total=   0.1s\n",
      "[CV] C=400, max_iter=50 ..............................................\n",
      "[CV] .................. C=400, max_iter=50, score=0.857, total=   0.1s\n",
      "[CV] C=400, max_iter=100 .............................................\n",
      "[CV] ................. C=400, max_iter=100, score=0.857, total=   0.1s\n",
      "[CV] C=400, max_iter=100 .............................................\n",
      "[CV] ................. C=400, max_iter=100, score=0.876, total=   0.1s\n",
      "[CV] C=400, max_iter=100 .............................................\n",
      "[CV] ................. C=400, max_iter=100, score=0.850, total=   0.1s\n",
      "[CV] C=400, max_iter=100 .............................................\n",
      "[CV] ................. C=400, max_iter=100, score=0.860, total=   0.2s\n",
      "[CV] C=400, max_iter=100 .............................................\n",
      "[CV] ................. C=400, max_iter=100, score=0.858, total=   0.1s\n",
      "[CV] C=400, max_iter=200 .............................................\n",
      "[CV] ................. C=400, max_iter=200, score=0.862, total=   0.2s\n",
      "[CV] C=400, max_iter=200 .............................................\n",
      "[CV] ................. C=400, max_iter=200, score=0.876, total=   0.2s\n",
      "[CV] C=400, max_iter=200 .............................................\n",
      "[CV] ................. C=400, max_iter=200, score=0.856, total=   0.2s\n",
      "[CV] C=400, max_iter=200 .............................................\n",
      "[CV] ................. C=400, max_iter=200, score=0.861, total=   0.3s\n",
      "[CV] C=400, max_iter=200 .............................................\n",
      "[CV] ................. C=400, max_iter=200, score=0.859, total=   0.2s\n",
      "[CV] C=800, max_iter=25 ..............................................\n",
      "[CV] .................. C=800, max_iter=25, score=0.853, total=   0.0s\n",
      "[CV] C=800, max_iter=25 ..............................................\n",
      "[CV] .................. C=800, max_iter=25, score=0.864, total=   0.0s\n",
      "[CV] C=800, max_iter=25 ..............................................\n",
      "[CV] .................. C=800, max_iter=25, score=0.842, total=   0.0s\n",
      "[CV] C=800, max_iter=25 ..............................................\n",
      "[CV] .................. C=800, max_iter=25, score=0.859, total=   0.0s\n",
      "[CV] C=800, max_iter=25 ..............................................\n",
      "[CV] .................. C=800, max_iter=25, score=0.846, total=   0.0s\n",
      "[CV] C=800, max_iter=50 ..............................................\n",
      "[CV] .................. C=800, max_iter=50, score=0.858, total=   0.1s\n",
      "[CV] C=800, max_iter=50 ..............................................\n",
      "[CV] .................. C=800, max_iter=50, score=0.877, total=   0.1s\n",
      "[CV] C=800, max_iter=50 ..............................................\n",
      "[CV] .................. C=800, max_iter=50, score=0.846, total=   0.1s\n",
      "[CV] C=800, max_iter=50 ..............................................\n",
      "[CV] .................. C=800, max_iter=50, score=0.867, total=   0.1s\n",
      "[CV] C=800, max_iter=50 ..............................................\n",
      "[CV] .................. C=800, max_iter=50, score=0.854, total=   0.1s\n",
      "[CV] C=800, max_iter=100 .............................................\n",
      "[CV] ................. C=800, max_iter=100, score=0.855, total=   0.1s\n",
      "[CV] C=800, max_iter=100 .............................................\n",
      "[CV] ................. C=800, max_iter=100, score=0.874, total=   0.1s\n",
      "[CV] C=800, max_iter=100 .............................................\n",
      "[CV] ................. C=800, max_iter=100, score=0.854, total=   0.1s\n",
      "[CV] C=800, max_iter=100 .............................................\n",
      "[CV] ................. C=800, max_iter=100, score=0.860, total=   0.1s\n",
      "[CV] C=800, max_iter=100 .............................................\n",
      "[CV] ................. C=800, max_iter=100, score=0.853, total=   0.1s\n",
      "[CV] C=800, max_iter=200 .............................................\n",
      "[CV] ................. C=800, max_iter=200, score=0.859, total=   0.3s\n",
      "[CV] C=800, max_iter=200 .............................................\n",
      "[CV] ................. C=800, max_iter=200, score=0.878, total=   0.2s\n",
      "[CV] C=800, max_iter=200 .............................................\n",
      "[CV] ................. C=800, max_iter=200, score=0.854, total=   0.2s\n",
      "[CV] C=800, max_iter=200 .............................................\n",
      "[CV] ................. C=800, max_iter=200, score=0.862, total=   0.3s\n",
      "[CV] C=800, max_iter=200 .............................................\n",
      "[CV] ................. C=800, max_iter=200, score=0.864, total=   0.3s\n",
      "[CV] C=1200, max_iter=25 .............................................\n",
      "[CV] ................. C=1200, max_iter=25, score=0.852, total=   0.0s\n",
      "[CV] C=1200, max_iter=25 .............................................\n",
      "[CV] ................. C=1200, max_iter=25, score=0.865, total=   0.0s\n",
      "[CV] C=1200, max_iter=25 .............................................\n",
      "[CV] ................. C=1200, max_iter=25, score=0.842, total=   0.0s\n",
      "[CV] C=1200, max_iter=25 .............................................\n",
      "[CV] ................. C=1200, max_iter=25, score=0.860, total=   0.0s\n",
      "[CV] C=1200, max_iter=25 .............................................\n",
      "[CV] ................. C=1200, max_iter=25, score=0.846, total=   0.0s\n",
      "[CV] C=1200, max_iter=50 .............................................\n",
      "[CV] ................. C=1200, max_iter=50, score=0.858, total=   0.1s\n",
      "[CV] C=1200, max_iter=50 .............................................\n",
      "[CV] ................. C=1200, max_iter=50, score=0.877, total=   0.1s\n",
      "[CV] C=1200, max_iter=50 .............................................\n",
      "[CV] ................. C=1200, max_iter=50, score=0.846, total=   0.1s\n",
      "[CV] C=1200, max_iter=50 .............................................\n",
      "[CV] ................. C=1200, max_iter=50, score=0.871, total=   0.1s\n",
      "[CV] C=1200, max_iter=50 .............................................\n",
      "[CV] ................. C=1200, max_iter=50, score=0.860, total=   0.1s\n",
      "[CV] C=1200, max_iter=100 ............................................\n",
      "[CV] ................ C=1200, max_iter=100, score=0.857, total=   0.1s\n",
      "[CV] C=1200, max_iter=100 ............................................\n",
      "[CV] ................ C=1200, max_iter=100, score=0.882, total=   0.1s\n",
      "[CV] C=1200, max_iter=100 ............................................\n",
      "[CV] ................ C=1200, max_iter=100, score=0.851, total=   0.1s\n",
      "[CV] C=1200, max_iter=100 ............................................\n",
      "[CV] ................ C=1200, max_iter=100, score=0.859, total=   0.1s\n",
      "[CV] C=1200, max_iter=100 ............................................\n",
      "[CV] ................ C=1200, max_iter=100, score=0.850, total=   0.1s\n",
      "[CV] C=1200, max_iter=200 ............................................\n",
      "[CV] ................ C=1200, max_iter=200, score=0.860, total=   0.3s\n",
      "[CV] C=1200, max_iter=200 ............................................\n",
      "[CV] ................ C=1200, max_iter=200, score=0.876, total=   0.2s\n",
      "[CV] C=1200, max_iter=200 ............................................\n",
      "[CV] ................ C=1200, max_iter=200, score=0.853, total=   0.2s\n",
      "[CV] C=1200, max_iter=200 ............................................\n",
      "[CV] ................ C=1200, max_iter=200, score=0.860, total=   0.3s\n",
      "[CV] C=1200, max_iter=200 ............................................\n",
      "[CV] ................ C=1200, max_iter=200, score=0.862, total=   0.3s\n",
      "[CV] C=2000, max_iter=25 .............................................\n",
      "[CV] ................. C=2000, max_iter=25, score=0.850, total=   0.0s\n",
      "[CV] C=2000, max_iter=25 .............................................\n",
      "[CV] ................. C=2000, max_iter=25, score=0.865, total=   0.0s\n",
      "[CV] C=2000, max_iter=25 .............................................\n",
      "[CV] ................. C=2000, max_iter=25, score=0.841, total=   0.0s\n",
      "[CV] C=2000, max_iter=25 .............................................\n",
      "[CV] ................. C=2000, max_iter=25, score=0.860, total=   0.0s\n",
      "[CV] C=2000, max_iter=25 .............................................\n",
      "[CV] ................. C=2000, max_iter=25, score=0.852, total=   0.0s\n",
      "[CV] C=2000, max_iter=50 .............................................\n",
      "[CV] ................. C=2000, max_iter=50, score=0.861, total=   0.1s\n",
      "[CV] C=2000, max_iter=50 .............................................\n",
      "[CV] ................. C=2000, max_iter=50, score=0.876, total=   0.0s\n",
      "[CV] C=2000, max_iter=50 .............................................\n",
      "[CV] ................. C=2000, max_iter=50, score=0.844, total=   0.1s\n",
      "[CV] C=2000, max_iter=50 .............................................\n",
      "[CV] ................. C=2000, max_iter=50, score=0.857, total=   0.1s\n",
      "[CV] C=2000, max_iter=50 .............................................\n",
      "[CV] ................. C=2000, max_iter=50, score=0.858, total=   0.1s\n",
      "[CV] C=2000, max_iter=100 ............................................\n",
      "[CV] ................ C=2000, max_iter=100, score=0.858, total=   0.1s\n",
      "[CV] C=2000, max_iter=100 ............................................\n",
      "[CV] ................ C=2000, max_iter=100, score=0.877, total=   0.1s\n",
      "[CV] C=2000, max_iter=100 ............................................\n",
      "[CV] ................ C=2000, max_iter=100, score=0.853, total=   0.1s\n",
      "[CV] C=2000, max_iter=100 ............................................\n",
      "[CV] ................ C=2000, max_iter=100, score=0.866, total=   0.1s\n",
      "[CV] C=2000, max_iter=100 ............................................\n",
      "[CV] ................ C=2000, max_iter=100, score=0.853, total=   0.1s\n",
      "[CV] C=2000, max_iter=200 ............................................\n",
      "[CV] ................ C=2000, max_iter=200, score=0.859, total=   0.3s\n",
      "[CV] C=2000, max_iter=200 ............................................\n",
      "[CV] ................ C=2000, max_iter=200, score=0.880, total=   0.2s\n",
      "[CV] C=2000, max_iter=200 ............................................\n",
      "[CV] ................ C=2000, max_iter=200, score=0.854, total=   0.3s\n",
      "[CV] C=2000, max_iter=200 ............................................\n",
      "[CV] ................ C=2000, max_iter=200, score=0.864, total=   0.2s\n",
      "[CV] C=2000, max_iter=200 ............................................\n",
      "[CV] ................ C=2000, max_iter=200, score=0.859, total=   0.3s\n"
     ]
    },
    {
     "name": "stderr",
     "output_type": "stream",
     "text": [
      "[Parallel(n_jobs=1)]: Done  80 out of  80 | elapsed:    9.4s finished\n"
     ]
    },
    {
     "data": {
      "text/plain": [
       "GridSearchCV(cv=None, error_score=nan,\n",
       "             estimator=LogisticRegression(C=1.0, class_weight=None, dual=False,\n",
       "                                          fit_intercept=True,\n",
       "                                          intercept_scaling=1, l1_ratio=None,\n",
       "                                          max_iter=100, multi_class='auto',\n",
       "                                          n_jobs=None, penalty='l2',\n",
       "                                          random_state=None, solver='lbfgs',\n",
       "                                          tol=0.0001, verbose=0,\n",
       "                                          warm_start=False),\n",
       "             iid='deprecated', n_jobs=None,\n",
       "             param_grid={'C': [400, 800, 1200, 2000],\n",
       "                         'max_iter': [25, 50, 100, 200]},\n",
       "             pre_dispatch='2*n_jobs', refit=True, return_train_score=False,\n",
       "             scoring=None, verbose=3)"
      ]
     },
     "execution_count": 13,
     "metadata": {},
     "output_type": "execute_result"
    }
   ],
   "source": [
    "# Train the model with GridSearch\n",
    "grid.fit(X_train_minmax, encoded_y_train)"
   ]
  },
  {
   "cell_type": "code",
   "execution_count": 14,
   "metadata": {},
   "outputs": [
    {
     "name": "stdout",
     "output_type": "stream",
     "text": [
      "{'C': 800, 'max_iter': 200}\n",
      "0.8632459849074727\n"
     ]
    }
   ],
   "source": [
    "print(grid.best_params_)\n",
    "print(grid.best_score_)"
   ]
  },
  {
   "cell_type": "markdown",
   "metadata": {},
   "source": [
    "# Save the Model"
   ]
  },
  {
   "cell_type": "code",
   "execution_count": 15,
   "metadata": {},
   "outputs": [
    {
     "data": {
      "text/plain": [
       "['logicreg.sav']"
      ]
     },
     "execution_count": 15,
     "metadata": {},
     "output_type": "execute_result"
    }
   ],
   "source": [
    "# save your model by updating \"your_name\" with your name\n",
    "# and \"your_model\" with your model variable\n",
    "# be sure to turn this in to BCS\n",
    "# if joblib fails to import, try running the command to install in terminal/git-bash\n",
    "import joblib\n",
    "filename = 'logicreg.sav'\n",
    "joblib.dump(model, filename)"
   ]
  },
  {
   "cell_type": "code",
   "execution_count": null,
   "metadata": {},
   "outputs": [],
   "source": []
  }
 ],
 "metadata": {
  "kernelspec": {
   "display_name": "Python 3",
   "language": "python",
   "name": "python3"
  },
  "language_info": {
   "codemirror_mode": {
    "name": "ipython",
    "version": 3
   },
   "file_extension": ".py",
   "mimetype": "text/x-python",
   "name": "python",
   "nbconvert_exporter": "python",
   "pygments_lexer": "ipython3",
   "version": "3.7.4"
  }
 },
 "nbformat": 4,
 "nbformat_minor": 4
}
